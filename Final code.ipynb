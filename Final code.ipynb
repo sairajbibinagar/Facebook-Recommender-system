{
 "cells": [
  {
   "cell_type": "code",
   "execution_count": 1,
   "metadata": {},
   "outputs": [],
   "source": [
    "def open_file():\n",
    "    ''' Opens the given filename'''\n",
    "    while True:\n",
    "        try:\n",
    "            file_name = input(\"Enter a filename: \")\n",
    "            F = open(file_name, 'r')\n",
    "            return F\n",
    "        except Exception as e:\n",
    "            print(e)\n",
    "            continue          "
   ]
  },
  {
   "cell_type": "code",
   "execution_count": 2,
   "metadata": {},
   "outputs": [],
   "source": [
    "def read_file(fp):  \n",
    "    ''' Constructs the network list from the text file'''\n",
    "    # Read n and initizlize the network to have n empty lists -- \n",
    "    #    one empty list for each member of the network\n",
    "    n = fp.readline()\n",
    "    n = int(n)\n",
    "    network = []\n",
    "    for i in range(n):\n",
    "        network.append([])\n",
    "    for line in fp:\n",
    "        u,v = line.split(' ')\n",
    "        u = int(u)\n",
    "        v = int(v)\n",
    "        network[u].append(v)\n",
    "        network[v].append(u)\n",
    "    # You need to write the code to fill in the network as you read the file\n",
    "    # Hint: append appropriate values to the appropriate lists.\n",
    "    # Each iteration of the loop will have two appends -- why?\n",
    "\n",
    "    return network"
   ]
  },
  {
   "cell_type": "code",
   "execution_count": 3,
   "metadata": {},
   "outputs": [],
   "source": [
    "def num_in_common_between_lists(list1, list2):\n",
    "    ''' Returns the number of common elements in two given lists'''\n",
    "    c = 0\n",
    "    for e in list1:\n",
    "        if (e in list2):\n",
    "            c = c + 1\n",
    "    return c"
   ]
  },
  {
   "cell_type": "code",
   "execution_count": 4,
   "metadata": {},
   "outputs": [],
   "source": [
    "def init_matrix(n):\n",
    "    '''Create an nxn matrix, initialize with zeros, and return the matrix.'''\n",
    "    matrix = []\n",
    "    for row in range(n):  # for each of the n rows\n",
    "        matrix.append([])  # create the row and initialize as empty\n",
    "        for column in range(n):\n",
    "            matrix[row].append(0)  # append a 0 for each of the n columns\n",
    "    return matrix"
   ]
  },
  {
   "cell_type": "code",
   "execution_count": 5,
   "metadata": {},
   "outputs": [],
   "source": [
    "def calc_similarity_scores(network):  \n",
    "    ''' Returns a matrix that reveals the number of common connections between all pairs of users'''\n",
    "    n = len(network)\n",
    "    similarity_matrix = init_matrix(n)\n",
    "    for i in range(n):\n",
    "        for j in range(i,n):\n",
    "            noc = num_in_common_between_lists(network[i], network[j])\n",
    "            similarity_matrix[i][j] = noc\n",
    "            similarity_matrix[j][i] = noc\n",
    "    return similarity_matrix"
   ]
  },
  {
   "cell_type": "code",
   "execution_count": 6,
   "metadata": {},
   "outputs": [],
   "source": [
    "def recommend(user_id,network,similarity_matrix):\n",
    "    ''' Suggests a friend for a given user, corresponding connections and similarity with all other users'''\n",
    "    tl = similarity_matrix[user_id].copy()\n",
    "    del tl[user_id]\n",
    "    while True:\n",
    "        maxsim = max(tl)\n",
    "        indices = [i for i, x in enumerate(similarity_matrix[user_id]) if x == maxsim]\n",
    "        for ind in indices:\n",
    "            if ((ind not in network[user_id]) and (ind != user_id)):\n",
    "                #print(\"similarity_matrix[user_id]:\",similarity_matrix[user_id]) \n",
    "                #print(\"network[user_id]:\",network[user_id])\n",
    "                print(\"The suggested friend for {} is {}\".format(user_id, ind))\n",
    "                return\n",
    "        tl = list(filter((maxsim).__ne__, tl))\n",
    "        if tl == []:\n",
    "            print(\"No connection found as {} user is friends with every other user in this network\".format(user_id))\n",
    "            #print(\"similarity_matrix[user_id]:\",similarity_matrix[user_id]) \n",
    "            #print(\"network[user_id]:\",network[user_id])\n",
    "            break"
   ]
  },
  {
   "cell_type": "code",
   "execution_count": 7,
   "metadata": {},
   "outputs": [],
   "source": [
    "def main():\n",
    "    # by convention \"main\" doesn't need a docstring\n",
    "    fp = open_file()\n",
    "    network = read_file(fp)\n",
    "    similarity_matrix = calc_similarity_scores(network)\n",
    "    n = len(network)\n",
    "    k = 'yes'\n",
    "    while((k == 'yes') or (k == 'Yes')):\n",
    "        try:\n",
    "            user_id = (input(\"Enter an integer in the range {} to {} :\".format(0,n-1)))\n",
    "            li = list(range(0,n))\n",
    "            li = list(str(i) for i in li)\n",
    "            if (user_id not in li):\n",
    "                print(\"Error: input must be an int between {} and {}\".format(0,n-1))\n",
    "                continue\n",
    "            user_id = int(user_id)\n",
    "            recommend(user_id,network,similarity_matrix)\n",
    "            k = input(\"Do you want to continue (yes/no)? \")\n",
    "        except Exception as e:\n",
    "            print(e)\n",
    "            continue"
   ]
  },
  {
   "cell_type": "code",
   "execution_count": 8,
   "metadata": {},
   "outputs": [
    {
     "name": "stdout",
     "output_type": "stream",
     "text": [
      "Enter a filename: facebook_1000_data.txt\n",
      "Enter an integer in the range 0 to 999 :88\n",
      "The suggested friend for 88 is 213\n",
      "Do you want to continue (yes/no)? yes\n",
      "Enter an integer in the range 0 to 999 :20\n",
      "The suggested friend for 20 is 116\n",
      "Do you want to continue (yes/no)? yes\n",
      "Enter an integer in the range 0 to 999 :5\n",
      "The suggested friend for 5 is 67\n",
      "Do you want to continue (yes/no)? yes\n",
      "Enter an integer in the range 0 to 999 :500\n",
      "The suggested friend for 500 is 559\n",
      "Do you want to continue (yes/no)? no\n"
     ]
    }
   ],
   "source": [
    "if __name__ == \"__main__\":\n",
    "    main()"
   ]
  }
 ],
 "metadata": {
  "kernelspec": {
   "display_name": "Python 3",
   "language": "python",
   "name": "python3"
  },
  "language_info": {
   "codemirror_mode": {
    "name": "ipython",
    "version": 3
   },
   "file_extension": ".py",
   "mimetype": "text/x-python",
   "name": "python",
   "nbconvert_exporter": "python",
   "pygments_lexer": "ipython3",
   "version": "3.6.4"
  }
 },
 "nbformat": 4,
 "nbformat_minor": 2
}
